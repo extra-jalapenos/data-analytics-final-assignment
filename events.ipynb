{
 "cells": [
  {
   "cell_type": "code",
   "execution_count": 9,
   "metadata": {},
   "outputs": [],
   "source": [
    "import pandas as pd\n",
    "raw_data_events = pd.read_csv(\"./data/events.csv\")"
   ]
  },
  {
   "cell_type": "code",
   "execution_count": 12,
   "metadata": {},
   "outputs": [
    {
     "data": {
      "text/plain": [
       "Index(['id', 'user_id', 'sequence_number', 'session_id', 'created_at',\n",
       "       'ip_address', 'city', 'state', 'postal_code', 'browser',\n",
       "       'traffic_source', 'uri', 'event_type'],\n",
       "      dtype='object')"
      ]
     },
     "execution_count": 12,
     "metadata": {},
     "output_type": "execute_result"
    }
   ],
   "source": [
    "raw_data_events.columns"
   ]
  },
  {
   "cell_type": "code",
   "execution_count": 13,
   "metadata": {},
   "outputs": [
    {
     "data": {
      "text/html": [
       "<div>\n",
       "<style scoped>\n",
       "    .dataframe tbody tr th:only-of-type {\n",
       "        vertical-align: middle;\n",
       "    }\n",
       "\n",
       "    .dataframe tbody tr th {\n",
       "        vertical-align: top;\n",
       "    }\n",
       "\n",
       "    .dataframe thead th {\n",
       "        text-align: right;\n",
       "    }\n",
       "</style>\n",
       "<table border=\"1\" class=\"dataframe\">\n",
       "  <thead>\n",
       "    <tr style=\"text-align: right;\">\n",
       "      <th></th>\n",
       "      <th>id</th>\n",
       "      <th>user_id</th>\n",
       "      <th>sequence_number</th>\n",
       "      <th>session_id</th>\n",
       "      <th>created_at</th>\n",
       "      <th>ip_address</th>\n",
       "      <th>city</th>\n",
       "      <th>state</th>\n",
       "      <th>postal_code</th>\n",
       "      <th>browser</th>\n",
       "      <th>traffic_source</th>\n",
       "      <th>uri</th>\n",
       "      <th>event_type</th>\n",
       "    </tr>\n",
       "  </thead>\n",
       "  <tbody>\n",
       "    <tr>\n",
       "      <th>0</th>\n",
       "      <td>1654067</td>\n",
       "      <td>NaN</td>\n",
       "      <td>3</td>\n",
       "      <td>9b5dcc78-e4f7-47df-8e3e-80b54de7f5c3</td>\n",
       "      <td>2022-03-03 08:24:00.000000 UTC</td>\n",
       "      <td>81.166.35.255</td>\n",
       "      <td>São Paulo</td>\n",
       "      <td>São Paulo</td>\n",
       "      <td>02675-031</td>\n",
       "      <td>Firefox</td>\n",
       "      <td>Facebook</td>\n",
       "      <td>/cancel</td>\n",
       "      <td>cancel</td>\n",
       "    </tr>\n",
       "    <tr>\n",
       "      <th>1</th>\n",
       "      <td>1634620</td>\n",
       "      <td>NaN</td>\n",
       "      <td>3</td>\n",
       "      <td>9280f069-144d-44cf-8d83-81910cd114fc</td>\n",
       "      <td>2023-10-24 17:07:00.000000 UTC</td>\n",
       "      <td>141.167.176.122</td>\n",
       "      <td>São Paulo</td>\n",
       "      <td>São Paulo</td>\n",
       "      <td>02675-031</td>\n",
       "      <td>Safari</td>\n",
       "      <td>Facebook</td>\n",
       "      <td>/cancel</td>\n",
       "      <td>cancel</td>\n",
       "    </tr>\n",
       "    <tr>\n",
       "      <th>2</th>\n",
       "      <td>2419377</td>\n",
       "      <td>NaN</td>\n",
       "      <td>3</td>\n",
       "      <td>b32517a3-086b-4ca2-8a69-4665fd7c8cfe</td>\n",
       "      <td>2023-04-03 14:44:00.000000 UTC</td>\n",
       "      <td>207.12.88.71</td>\n",
       "      <td>São Paulo</td>\n",
       "      <td>São Paulo</td>\n",
       "      <td>02675-031</td>\n",
       "      <td>Safari</td>\n",
       "      <td>Email</td>\n",
       "      <td>/cancel</td>\n",
       "      <td>cancel</td>\n",
       "    </tr>\n",
       "    <tr>\n",
       "      <th>3</th>\n",
       "      <td>1643719</td>\n",
       "      <td>NaN</td>\n",
       "      <td>3</td>\n",
       "      <td>91e7c791-0ad0-4dba-ac21-ab28bc1c288d</td>\n",
       "      <td>2022-05-04 12:31:00.000000 UTC</td>\n",
       "      <td>87.43.237.190</td>\n",
       "      <td>São Paulo</td>\n",
       "      <td>São Paulo</td>\n",
       "      <td>02675-031</td>\n",
       "      <td>Firefox</td>\n",
       "      <td>Email</td>\n",
       "      <td>/cancel</td>\n",
       "      <td>cancel</td>\n",
       "    </tr>\n",
       "    <tr>\n",
       "      <th>4</th>\n",
       "      <td>2165272</td>\n",
       "      <td>NaN</td>\n",
       "      <td>3</td>\n",
       "      <td>6f3f52fd-a887-43c0-963f-5280d625f38f</td>\n",
       "      <td>2023-01-07 18:30:00.000000 UTC</td>\n",
       "      <td>153.110.117.58</td>\n",
       "      <td>São Paulo</td>\n",
       "      <td>São Paulo</td>\n",
       "      <td>02675-031</td>\n",
       "      <td>Safari</td>\n",
       "      <td>Facebook</td>\n",
       "      <td>/cancel</td>\n",
       "      <td>cancel</td>\n",
       "    </tr>\n",
       "  </tbody>\n",
       "</table>\n",
       "</div>"
      ],
      "text/plain": [
       "        id  user_id  sequence_number                            session_id  \\\n",
       "0  1654067      NaN                3  9b5dcc78-e4f7-47df-8e3e-80b54de7f5c3   \n",
       "1  1634620      NaN                3  9280f069-144d-44cf-8d83-81910cd114fc   \n",
       "2  2419377      NaN                3  b32517a3-086b-4ca2-8a69-4665fd7c8cfe   \n",
       "3  1643719      NaN                3  91e7c791-0ad0-4dba-ac21-ab28bc1c288d   \n",
       "4  2165272      NaN                3  6f3f52fd-a887-43c0-963f-5280d625f38f   \n",
       "\n",
       "                       created_at       ip_address       city      state  \\\n",
       "0  2022-03-03 08:24:00.000000 UTC    81.166.35.255  São Paulo  São Paulo   \n",
       "1  2023-10-24 17:07:00.000000 UTC  141.167.176.122  São Paulo  São Paulo   \n",
       "2  2023-04-03 14:44:00.000000 UTC     207.12.88.71  São Paulo  São Paulo   \n",
       "3  2022-05-04 12:31:00.000000 UTC    87.43.237.190  São Paulo  São Paulo   \n",
       "4  2023-01-07 18:30:00.000000 UTC   153.110.117.58  São Paulo  São Paulo   \n",
       "\n",
       "  postal_code  browser traffic_source      uri event_type  \n",
       "0   02675-031  Firefox       Facebook  /cancel     cancel  \n",
       "1   02675-031   Safari       Facebook  /cancel     cancel  \n",
       "2   02675-031   Safari          Email  /cancel     cancel  \n",
       "3   02675-031  Firefox          Email  /cancel     cancel  \n",
       "4   02675-031   Safari       Facebook  /cancel     cancel  "
      ]
     },
     "execution_count": 13,
     "metadata": {},
     "output_type": "execute_result"
    }
   ],
   "source": [
    "raw_data_events.head()"
   ]
  },
  {
   "cell_type": "code",
   "execution_count": 16,
   "metadata": {},
   "outputs": [
    {
     "name": "stdout",
     "output_type": "stream",
     "text": [
      "<class 'pandas.core.frame.DataFrame'>\n",
      "RangeIndex: 47948 entries, 0 to 47947\n",
      "Data columns (total 13 columns):\n",
      " #   Column           Non-Null Count  Dtype  \n",
      "---  ------           --------------  -----  \n",
      " 0   id               47948 non-null  int64  \n",
      " 1   user_id          25115 non-null  float64\n",
      " 2   sequence_number  47948 non-null  int64  \n",
      " 3   session_id       47948 non-null  object \n",
      " 4   created_at       47948 non-null  object \n",
      " 5   ip_address       47948 non-null  object \n",
      " 6   city             47487 non-null  object \n",
      " 7   state            47948 non-null  object \n",
      " 8   postal_code      47948 non-null  object \n",
      " 9   browser          47948 non-null  object \n",
      " 10  traffic_source   47948 non-null  object \n",
      " 11  uri              47948 non-null  object \n",
      " 12  event_type       47948 non-null  object \n",
      "dtypes: float64(1), int64(2), object(10)\n",
      "memory usage: 4.8+ MB\n"
     ]
    },
    {
     "data": {
      "text/plain": [
       "(47948, 13)"
      ]
     },
     "execution_count": 16,
     "metadata": {},
     "output_type": "execute_result"
    }
   ],
   "source": [
    "raw_data_events.info()"
   ]
  },
  {
   "cell_type": "markdown",
   "metadata": {},
   "source": [
    "Except for userId, most columns are filled."
   ]
  },
  {
   "cell_type": "markdown",
   "metadata": {},
   "source": [
    "## Grouping by event type"
   ]
  },
  {
   "cell_type": "code",
   "execution_count": 62,
   "metadata": {},
   "outputs": [],
   "source": [
    "by_event_type = raw_data_events.groupby(by=[\"state\", \"event_type\"])[\"id\"].count().sort_values(ascending=False)\n",
    "by_event_type.to_csv(path_or_buf=\"./export/event_count_by_state.csv\")"
   ]
  },
  {
   "cell_type": "markdown",
   "metadata": {},
   "source": [
    "## Concentration of sales"
   ]
  },
  {
   "cell_type": "code",
   "execution_count": 61,
   "metadata": {},
   "outputs": [],
   "source": [
    "only_sales = raw_data_events[raw_data_events[\"event_type\"] == \"cart\"]\n",
    "sales_count_by_source = only_sales.groupby(by=[\"state\", \"traffic_source\"])[\"id\"].count().sort_values(ascending=False)\n",
    "sales_count_by_source.to_csv(path_or_buf=\"./export/sales_count_by_source.csv\")"
   ]
  }
 ],
 "metadata": {
  "kernelspec": {
   "display_name": "boolean",
   "language": "python",
   "name": "python3"
  },
  "language_info": {
   "codemirror_mode": {
    "name": "ipython",
    "version": 3
   },
   "file_extension": ".py",
   "mimetype": "text/x-python",
   "name": "python",
   "nbconvert_exporter": "python",
   "pygments_lexer": "ipython3",
   "version": "3.12.3"
  }
 },
 "nbformat": 4,
 "nbformat_minor": 2
}
